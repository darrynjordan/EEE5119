{
 "cells": [
  {
   "cell_type": "markdown",
   "metadata": {},
   "source": [
    "## EEE5119F: Introduction to Radar\n",
    "### Linear Frequency Modulated \"Chirp\" Waveforms"
   ]
  },
  {
   "cell_type": "markdown",
   "metadata": {},
   "source": [
    "### Exercises\n",
    "\n",
    "1. Given that frequency is proportional to the rate of change of phase, $ f(t) = \\frac{1}{2 \\pi} \\frac{d \\phi(t)}{d t} $, determine the frequency of the following signals:\n",
    " - a) $ x(t) = \\cos \\left( 34.54 t \\right) $\n",
    " - b) $ y(t) = e^{-j 43.96 t} $"
   ]
  },
  {
   "cell_type": "markdown",
   "metadata": {},
   "source": [
    "2. Use the relationship between frequency and phase to derive the relationship between Doppler frequency $f_d$ and target radial velocity $v_r$. Tip: $ \\phi(t) = 2 \\pi \\frac{2 R(t)}{\\lambda} $"
   ]
  },
  {
   "cell_type": "markdown",
   "metadata": {},
   "source": [
    "3. Develop an expression for the phase $ \\phi(t) $ of a signal whose frequency $ f(t) $ changes linearly through time. The rate at which the frequency changes is called the chirp rate $ \\beta $. The initial frequency is denoted $ f_0 $."
   ]
  },
  {
   "cell_type": "markdown",
   "metadata": {},
   "source": [
    "4. Plot both $f(t)$ and $ \\phi(t) $ given that the pulse width is 2 ms, the initial frequency is zero, and the chirp bandwidth is 40 kHz."
   ]
  },
  {
   "cell_type": "markdown",
   "metadata": {},
   "source": [
    "5. Use the developed expression for $ \\phi(t) $ to form an analytic representation of a chirp waveform $ s(t) $. Plot the real and imaginary components of the waveform, along with the envelope of the signal."
   ]
  },
  {
   "cell_type": "markdown",
   "metadata": {},
   "source": [
    "6. Plot the frequency spectrum of the chirp waveform over the limits of -50 kHz to +50 kHz."
   ]
  },
  {
   "cell_type": "markdown",
   "metadata": {},
   "source": [
    "7. (a) What is the required sampling rate for the chirp signal? (b) Can this sampling rate be reduced while retaining all of the signal information? (c) Which Fourier transform pair could help us achieve this? (d) Apply a frequency shift to the chirp waveform and plot the resulting signal in the time and frequency domain. (e) What is this new sampling rate requirement? (f) How does the data rate required to represent this complex signal compare to that of a real representation?"
   ]
  },
  {
   "cell_type": "markdown",
   "metadata": {},
   "source": [
    "8. Find an expression for a time delayed version of $ s(t) $ i.e., $ s(t - \\tau) $"
   ]
  },
  {
   "cell_type": "markdown",
   "metadata": {},
   "source": [
    "9. It is **vital** to note that for the purposes of simulation we can simply omit the carrier component $ f_0 t $, and keep track of the impact that being at that carrier frequency has on the waveform i.e., the phase shift $ f_0 \\tau $. What dictates the required sample rate of this signal if the carrier component is omitted?"
   ]
  },
  {
   "cell_type": "markdown",
   "metadata": {},
   "source": [
    "10. Write a function `chirp(t, width, rate, F_0, tau=0)` that produces a complex chirp waveform with an arbitrary delay given by $ \\tau $. Ensure that the `chirp` function makes use of the `rect` function to set its time bounds correctly. Your `chirp` function may implement either the original *offset*, or more bandwidth efficient *shifted* version of the signal."
   ]
  },
  {
   "cell_type": "markdown",
   "metadata": {},
   "source": [
    "11. Use your `chirp` function to generate a hypothetical transmit pulse for a system with a PRI of 10 ms. Plot the transmit pulse in the time domain over a full PRI."
   ]
  },
  {
   "cell_type": "markdown",
   "metadata": {},
   "source": [
    "12. Reuse the `chirp` function to simulate the received signal if two targets are visible at time delays of 4 ms and 8 ms respectively. Observe the phase of the responses from each target. Now you are told that the wavelength of the radar's carrier is 12.5 cm, determine the correct value for $ F_0 $ and regenerate the plot. Note how the phase shift associated with the carrier is captured without the need to increase the sampling rate."
   ]
  },
  {
   "cell_type": "markdown",
   "metadata": {},
   "source": [
    "13. Consider that the system's matched filter is simply the complex conjugated and time reversed transmit waveform. Knowing this, convolve the received signal with the matched filter i.e. perform pulse compression. Tip: time domain convolution is equivalent to frequency domain multiplication."
   ]
  }
 ],
 "metadata": {
  "kernelspec": {
   "display_name": "venv",
   "language": "python",
   "name": "python3"
  },
  "language_info": {
   "codemirror_mode": {
    "name": "ipython",
    "version": 3
   },
   "file_extension": ".py",
   "mimetype": "text/x-python",
   "name": "python",
   "nbconvert_exporter": "python",
   "pygments_lexer": "ipython3",
   "version": "3.10.12"
  }
 },
 "nbformat": 4,
 "nbformat_minor": 2
}
