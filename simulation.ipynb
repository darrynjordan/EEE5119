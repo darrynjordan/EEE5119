{
 "cells": [
  {
   "cell_type": "markdown",
   "metadata": {},
   "source": [
    "## EEE5119F: Introduction to Radar\n",
    "\n",
    "### Final Simulation - Bringing it Together\n",
    "\n",
    "Consider a radar with the following parameters\n",
    "\n",
    "Parameter               | Value\n",
    "---                     | ---\n",
    "Centre frequency        | $ 5   \\, \\mathrm{GHz} $\n",
    "Chirp bandwidth         | $ 100 \\, \\mathrm{kHz} $\n",
    "Pulse width             | $ 0.1 \\, \\mathrm{ms} $\n",
    "PRF                     | $ 1   \\, \\mathrm{kHz} $\n",
    "\n",
    "and two targets with the following parameters\n",
    "\n",
    "Target  | Range (km)    | Velocity (m/s)\n",
    "---     | ---           | ---\n",
    "1       | $ 60 $        | $ 0 $\n",
    "2       | $ 100 $       | $ 10 $"
   ]
  },
  {
   "cell_type": "markdown",
   "metadata": {},
   "source": [
    "1. Determine the values of the following set of radar parameters: (a) PRI (b) $ F_0 $ (chirp start frequency) (c) $ \\beta $ (chirp rate) in GHz/s (d) wavelength in cm."
   ]
  },
  {
   "cell_type": "markdown",
   "metadata": {},
   "source": [
    "2. We intend to simulate $ 128 $ pulses received by this radar system. Determine the following set of simulation parameters: (a) sample rate (b) number of fast time samples (c) duration of slow time."
   ]
  },
  {
   "cell_type": "markdown",
   "metadata": {},
   "source": [
    "3. Generate axes for (a) fast time (b) slow time (c) range (d) (fast time) frequency (e) Doppler (slow-time) frequency (f) Doppler (radial) velocity. Print the first and last sample for each axis."
   ]
  },
  {
   "cell_type": "markdown",
   "metadata": {},
   "source": [
    "4. Generate and plot a single transmit chirp waveform in the time domain. Overlay the real, imaginary and absolute values."
   ]
  },
  {
   "cell_type": "markdown",
   "metadata": {},
   "source": [
    "5. Plot the frequency spectrum of the transmit waveform from -200 to 200 kHz to ensure that the parameters chirp waveform are correct."
   ]
  },
  {
   "cell_type": "markdown",
   "metadata": {},
   "source": [
    "6. Generate and plot a single received signal in the time domain, comprising echoes from the two targets in the absence of noise. Ignore any losses or other amplitude effects. Overlay the real, imaginary and absolute values. Does the phase of the chirp differ between the two responses?"
   ]
  },
  {
   "cell_type": "markdown",
   "metadata": {},
   "source": [
    "7. Write a function that adds white Gaussian noise with a given power level to a complex signal: `awgn(signal, power)`. Add this function to your utility functions script. Use this function to add 2 mW of noise to the received signal. Plot the result in the time domain."
   ]
  },
  {
   "cell_type": "markdown",
   "metadata": {},
   "source": [
    "8. Produce a PDF of the detected (envelope) voltage. How does this PDF compare to that on page 101 of PoMR? Ensure that you plotted the signal envelope in 7. to ease interpretation of this PDF. What would be a good choice of threshold voltage to ensure a high $ P_D $?"
   ]
  },
  {
   "cell_type": "markdown",
   "metadata": {},
   "source": [
    "9. Generate a matrix of received waveforms where each received PRI occupies a row of the matrix. Tip: start with `rx_matrix = np.zeros((N_pulses, N_s_fast), dtype=np.complex128)` and then use a loop to insert a new received signal into each row of the matrix i.e. `rx_matrix[pulse_number] = rx`. Remember that each target has an associated velocity. Use `plt.imshow()` to produce 2D plots of the signal envelope and phase, termed range-time-intensity (RTI) and range-time-phase (RTP) plots."
   ]
  },
  {
   "cell_type": "markdown",
   "metadata": {},
   "source": [
    "10. (a) How far do the targets move over the 128 pulses? (b) How many wavelengths have they moved? Is this visible in the RTI or RTP? (c) What is their anticipated Doppler frequency? (d) What is the maximum unambiguous Doppler frequency for this system? (e) What is the Doppler resolution for this system?"
   ]
  },
  {
   "cell_type": "markdown",
   "metadata": {},
   "source": [
    "11. At this position in your notebook insert a code cell that contains `pc_matrix = rx_matrix` i.e., the pulse compressed matrix is equal to the received matrix **for now**. Later we will return to this point and implement pulse compression such that `pc_matrix != rx_matrix`. From this point in the notebook onwards, use `pc_matrix` where you would have used `rx_matrix`."
   ]
  },
  {
   "cell_type": "markdown",
   "metadata": {},
   "source": [
    "12. Implement non-coherent integration by averaging the envelope of the received signal over $ x $ number of pulses. Produce a figure that overlays the plots for non-coherent integration of 1, 10, and 100 pulses. Comment on the variance of the noise. Comment on the SNR."
   ]
  },
  {
   "cell_type": "markdown",
   "metadata": {},
   "source": [
    "13. Produce a figure that overlays the PDFs for the three non-coherent integration results from 12. Comment on the mean and standard deviation values for each PDF. Comment on the overall shape of the PDFs."
   ]
  },
  {
   "cell_type": "markdown",
   "metadata": {},
   "source": [
    "14. Now, implement coherent integration by averaging the complex valued received signal over $ x $ number of pulses. Produce a figure that overlays the plots for coherent integration of 1, 10, and 100 pulses. Comment on the variance of the noise. Comment on the SNR. Does it have the same effect on both targets, why not?"
   ]
  },
  {
   "cell_type": "markdown",
   "metadata": {},
   "source": [
    "15. Produce a figure that overlays the PDFs for the three coherent integration results from 12. Comment on the mean and standard deviation values for each PDF. Comment on the overall shape of the PDFs."
   ]
  },
  {
   "cell_type": "markdown",
   "metadata": {},
   "source": [
    "16. Implement moving target indication (MTI) using the single-pulse cancellation approach. For each pulse in the received matrix subtract the next complex valued pulse from the current one. Plot the result as an RTI. Which target do you expect to be visible? Why does this work?"
   ]
  },
  {
   "cell_type": "markdown",
   "metadata": {},
   "source": [
    "17. Implement Doppler processing and produce a range-Doppler map (RDM) using `np.fft.fft` to take FFTs through slow time. Tips: (1) be sure to think about the `axis` parameter (2) you'll need `np.fft.fftshift`. Use the `extent` parameter of `plt.imshow` to set the extent of the Doppler frequency axis. Do the targets appear at the correct Doppler frequency, as calculated in 10.?"
   ]
  },
  {
   "cell_type": "markdown",
   "metadata": {},
   "source": [
    "18. Generate a figure that overlays two 1D slices through the RDM; one for each of the targets."
   ]
  },
  {
   "cell_type": "markdown",
   "metadata": {},
   "source": [
    "19. Adjust the `extent` argument from 17 to produce an RDM with radial velocity on the $y$-axis. Do the targets appear at the expected radial velocities?"
   ]
  },
  {
   "cell_type": "markdown",
   "metadata": {},
   "source": [
    "20. Consider that the system's matched filter is simply the complex conjugate of the transmit waveform. Knowing this, convolve each received signal in the matrix with the matched filter i.e. perform pulse compression. Implement this filter at 11, commenting out `pc_matrix = rx_matrix` from earlier. Tip: time domain convolution is equivalent to frequency domain multiplication. Re-run all the cells to see the benefit of pulse compression, especially in the RDM."
   ]
  }
 ],
 "metadata": {
  "language_info": {
   "name": "python"
  }
 },
 "nbformat": 4,
 "nbformat_minor": 2
}
