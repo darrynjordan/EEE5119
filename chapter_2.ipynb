{
 "cells": [
  {
   "cell_type": "markdown",
   "metadata": {},
   "source": [
    "## EEE5119F: Introduction to Radar"
   ]
  },
  {
   "cell_type": "markdown",
   "metadata": {},
   "source": [
    "### Chapter 2\n",
    "#### 2.1 Power Density at Distance (Isotropic Antenna)\n",
    "$$ Q_i = \\frac{P_t}{4 \\pi R^2} $$\n",
    "where:\n",
    "- $Q_i$ is the incident power density ($W/m^2$),\n",
    "- at a distance $R$ ($\\mathrm{m}$) from the radiating antenna.\n",
    "---"
   ]
  },
  {
   "cell_type": "markdown",
   "metadata": {},
   "source": [
    "#### 2.2 Power Density at Distance (Directional Antenna)\n",
    "$$ Q_i = \\frac{P_t G_t}{4 \\pi R^2} $$\n",
    "where:\n",
    "- $G_t$ is the antenna gain.\n",
    "---"
   ]
  },
  {
   "cell_type": "markdown",
   "metadata": {},
   "source": [
    "#### 2.3 Reflected Power from a Target\n",
    "$$ P_\\mathrm{refl} = Q_i \\sigma = \\frac{P_t G_t \\sigma}{4 \\pi R^2} $$\n",
    "where:\n",
    "- $P_\\mathrm{refl}$ is the reflected power (Watts), and\n",
    "- $\\sigma$ is the mean radar cross section ($m^2$).\n",
    "---"
   ]
  },
  {
   "cell_type": "markdown",
   "metadata": {},
   "source": [
    "#### 2.4 Power Density at the Receive Antenna\n",
    "$$ Q_r = \\frac{P_\\mathrm{refl}}{4 \\pi R^2} = \\frac{P_t G_t \\sigma}{(4 \\pi)^2 R^4} $$\n",
    "where:\n",
    "- $Q_r$ is the reflected power density ($W/m^2$).\n",
    "---"
   ]
  },
  {
   "cell_type": "markdown",
   "metadata": {},
   "source": [
    "#### 2.5 Antenna Effective Area\n",
    "$$ A_e = \\frac{G \\lambda^2}{4 \\pi \\eta_a} $$\n",
    "where:\n",
    "- $A_e$ is the effective antenna area ($m^2$), and\n",
    "- $\\eta_a$ is the antenna efficiency.\n",
    "---"
   ]
  },
  {
   "cell_type": "markdown",
   "metadata": {},
   "source": [
    "#### 2.6 Received Power\n",
    "$$ P_r = Q_r A_e = \\frac{P_t G_t G_r \\lambda^2 \\sigma}{(4 \\pi)^3 R^4} $$\n",
    "where:\n",
    "- $G_r$ is the gain of the receive antenna.\n",
    "---"
   ]
  },
  {
   "cell_type": "markdown",
   "metadata": {},
   "source": [
    "#### 2.7 Receiver Thermal Noise\n",
    "$$ P_n = k T_s B = k T_0 F B $$\n",
    "where:\n",
    "- $k$ is Boltzmann’s constant (1.38 × 10−23 $\\mathrm{Ws/K}$),\n",
    "- $T_0$ is the standard temperature (290 $\\mathrm{K}$).\n",
    "- $T_s$ is the system noise temperature ($T_s$ = $T_0 F$).\n",
    "- $B$ is the instantaneous receiver bandwidth ($\\mathrm{Hz}$).\n",
    "- $F$ is the noise figure of the receiver subsystem.\n",
    "---"
   ]
  },
  {
   "cell_type": "markdown",
   "metadata": {},
   "source": [
    "Students to add important equations here..."
   ]
  },
  {
   "cell_type": "markdown",
   "metadata": {},
   "source": [
    "### Problems\n",
    "PoMR I: Page 85"
   ]
  },
  {
   "cell_type": "markdown",
   "metadata": {},
   "source": [
    "1.) Target received power: Using equation (2.8), determine the single-pulse received power level\n",
    "from a target for a radar system having the following characteristics:\n",
    "\n",
    "3.) Using equation (2.11), determine the single-pulse SNR for the target described in problem 1 if\n",
    "the receiver has a noise figure of 2.7 dB and an instantaneous bandwidth of 1 MHz.\n",
    "\n",
    "5.) Using equation (2.11), determine the SNR for the four conditions described in problem 4 for the\n",
    "following noise-related characteristics. Bandwidth for both frequencies is 10 MHz, the noise\n",
    "figure for 9.4 GHz systems is 3.2 dB, and the noise figure for the 2.8 GHz system is 2.7 dB.\n",
    "\n",
    "7.) If atmospheric propagation losses of 0.12 dB per km (two-way) are also considered, determine\n",
    "the resulting SNR values in problem 6.\n",
    "\n",
    "10.) A system has a single-pulse SNR of 13 dB for a given target at a given range. Determine the\n",
    "integrated SNR if 20 pulses are coherently processed.\n",
    "\n",
    "11.) A system SNR can be increased by extending the dwell time. If the original dwell time of a\n",
    "system is 1.75 msec, what new dwell time is required to make up for the loss in target RCS\n",
    "from 1 square meter to 0.1 square meters?\n",
    "\n",
    "13.) If the radar system in problem 1 is looking at volume clutter having a reflectivity value of\n",
    "η = −70 dBm2 /m3 , if the volume of the clutter cell is 900,000,000 cubic meters, what is the\n",
    "clutter RCS and the resulting SCR?\n",
    "\n",
    "15.) Using the answers from problems 2 and 14 what is the jammer-to-noise ratio (JNR)?\n",
    "\n",
    "17.) What would the resulting JNR be for the sidelobe jamming signal?"
   ]
  },
  {
   "cell_type": "markdown",
   "metadata": {},
   "source": [
    "### Exercises\n",
    "\n",
    "#### PoMR I Page 75: Graphical Example\n",
    "\n",
    "Note: [PoMR Errata](https://www.eit.lth.se/fileadmin/eit/courses/eitn90/POMR_Errata_5th_Printing.pdf) state that the antenna diameter should be 2.5 m, rather than 2.4 m.\n",
    "\n",
    "1. Plot the power density (W/m) incident on the target as a function of range for (a) an isotropic radiator, and (b) the given directional antenna. Plot in dB relative to 1 W/sm. What is the difference in dB between the two curves? What is the gain of the antenna in dB?\n",
    "2. What is the peak power radiated by each target at a range of 20 km when the directional antenna is used? How does this compare to the peak power radiated by the radar? Plot the peak radiated power from each target in dBW as a function of range. What is the difference in power radiated by the targets? What is the difference in RCS between the targets?\n",
    "3. Plot the peak power density at the radar's receive antenna for each target.\n",
    "4. Plot the peak power received from each target. What is the peak power received (in picowatts) by each target at 100 km? How does this compare to the transmitted peak power level?\n",
    "5. Calculate the thermal noise power level and plot it on the same figure as the received power plot using `plt.hlines`.\n",
    "6. Calculate the system losses in dB and plot the result as a function of range.\n",
    "7. How many pulses are transmitted during the radar's processing dwell time? If the radar performs coherent integration over the CPI, what is the processing gain achieved?\n",
    "8. Plot the resultant SNR as a function of range for both targets. Achieve the same result using the peak power and average forms of the SNR equation directly. Do all three of these agree with the plot on page 76? Adjust the units of one plot to linear rather than dB and compare the vitalisation.\n",
    "\n",
    "#### ATC Radar\n",
    "\n",
    "Parameter               | Value\n",
    "---                     | ---\n",
    "Aircraft cross section  | $ 1       \\, \\mathrm{m}^2 $\n",
    "Transmitter peak power  | $ 1.4     \\, \\mathrm{megawatts} $\n",
    "Duty cycle              | $ 0.000525 $\n",
    "Pulse width             | $ 0.6     \\, \\mathrm{microseconds} $\n",
    "Frequency               | $ 2800    \\, \\mathrm{megahertz}$\n",
    "Antenna rotation rate   | $ 12.8    \\, \\mathrm{RPM} $\n",
    "PRF                     | $ 1200    \\, \\mathrm{Hz} $\n",
    "Antenna dimensions      | $ 4.9 \\, \\mathrm{m} $ wide by $ 2.7 \\, \\mathrm{m} $ high\n",
    "Antenna efficiency      | $ 0.7 $\n",
    "System noise temp       | $ 950     \\, \\mathrm{K} $\n",
    "System losses           | $ 8       \\, \\mathrm{dB} $\n",
    "\n",
    "9. What is the antenna gain?\n",
    "10. What is the antenna beamwidth in both azimuth and elevation? (no antenna tapering function)\n",
    "11. How long does the radar dwell on each target? How many pulses are transmitted within the dwell time? If all pulses are integrated coherently, what is the resultant processing gain?\n",
    "12. What is the single pulse SNR at a range of 60 NM? What is the SNR after coherent integration?\n",
    "\n",
    "#### Additional Ideas\n",
    "\n",
    "- Surface and volume clutter\n",
    "- One-way link equation - jammers"
   ]
  }
 ],
 "metadata": {
  "language_info": {
   "name": "python"
  }
 },
 "nbformat": 4,
 "nbformat_minor": 2
}
