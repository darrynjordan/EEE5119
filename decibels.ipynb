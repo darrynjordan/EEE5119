{
 "cells": [
  {
   "cell_type": "markdown",
   "metadata": {},
   "source": [
    "## EEE5119F: Introduction to Radar\n",
    "### The Ubiquitous dB"
   ]
  },
  {
   "cell_type": "markdown",
   "metadata": {},
   "source": [
    "Many radar parameters are expressed in units of dB due to the large dynamic range of these parameters. By expressing a parameter in dB, we are able to compress the dynamic range of the parameter. In other words, decibels assist in mapping a large range of values to a smaller range, which is particularly good for visualisation.\n",
    "\n",
    "A good example is radar cross section (RCS), which can range from values of $10^{−5} \\, \\mathrm{m}^2$ (insects) to over $10^6 \\, \\mathrm{m}^2$ (aircraft carriers). This represents 11 orders of magnitude, a range of a 100 billion to one ($10^{11}$). In dB units, these RCS values become –50 dB and 60 dB, respectively, a range of only 110. Thus, in dB, the scale becomes significantly compressed and easier to deal with mathematically, and to visualise.\n",
    "\n",
    "The value of a quantity in dB is always computed relative to some reference value. The first step in converting a value to dB is therefore to divide it by the reference value. For example, consider power, $P_\\mathrm{linear}$. Before taking the logarithm of $P_\\mathrm{linear}$, it is divided by a reference power $P_0$, say, $P_0$ = 1 watt. Now the *common* (base 10) logarithm is taken:\n",
    "\n",
    "$$ P_\\mathrm{B} = \\log_{10} \\left( \\frac{P_\\mathrm{linear}}{P_0} \\right) $$\n",
    "\n",
    "This is the power in \"bels.\" Multiplying this by 10 yields the power in decibels,\n",
    "\n",
    "$$ P_\\mathrm{dB} = 10 \\log_{10} \\left( \\frac{P_\\mathrm{linear}}{P_0} \\right) $$\n",
    "\n",
    "To convert a value $x$ from dB units to linear units the inverse operation is performed:\n",
    "\n",
    "$$ x_\\mathrm{linear} = 10^{(x_\\mathrm{dB}/10)} $$\n",
    "\n",
    "Since dB is always with reference to some parameter, we modify the way the unit \"dB\" is written to convey the choice of the reference parameter. In the case of power, for example, the unit is expressed as \"dBW\" (dB relative to 1 watt) if $P_0$ = 1 watt, and \"dBm\" (dB relative to 1 milliwatt) if $P_0$ = 1 milliwatt.\n",
    "\n",
    "Some features of measurements in dB to note are:\n",
    "- values in dB can be determined only for positive parameters (the dB value of a negative parameter is not allowed), and\n",
    "- a negative dB value means that the linear value of the parameter is less than the reference value, that is, the ratio $P_\\mathrm{linear}/P_0$ is less than 1.\n",
    "\n",
    "The use of decibels also simplifies arithmetic, since multiplication becomes addition, and division becomes subtraction. This is due to the mathematical properties of the logarithm.\n",
    "- $x = yz$ becomes $x = y + z$ if $x$, $y$ and $z$ are expressed in dB.\n",
    "- $x = y/z$ becomes $x = y − z$ if $x$, $y$ and $z$ are expressed in dB.\n",
    "- $z = y^a$ becomes $x = ay$ if $x$ and $y$ are expressed in dB ($a$ is not in dB).\n",
    "\n",
    "The following table lists a important relationships to remember:\n",
    "\n",
    "Linear      | dB\n",
    "---         | ---\n",
    "$1$         | $0$\n",
    "$1.25$      | $1$\n",
    "$2$         | $3$\n",
    "$10$        | $10$\n",
    "$10^x$      | $10x$\n",
    "$10^{-x}$   | $-10x$\n",
    "\n",
    "Radar parameters that are commonly expressed in dB:\n",
    "\n",
    "Parameter       | dB expression\n",
    "---             | ---\n",
    "Antenna gain    | dBi (gain relative to isotropic antenna)\n",
    "Power gain      | dB (power out / power in)\n",
    "Power loss      | dB (power in / power out)\n",
    "Power           | dBW (power relative to 1 watt) or dBm (power relative to 1 milliwatt)\n",
    "RCS             | dBsm (RSC relative to 1 square meter)"
   ]
  },
  {
   "cell_type": "markdown",
   "metadata": {},
   "source": [
    "### Exercises\n",
    "1. Define a function to convert the following linear values to decibels: (a) $1$, (b) $2$, (c) $1/2$, (d) $10$, (e) $1/10$, and (f) $0$.\n",
    "2. Define a function to convert the following from decibels to linear: (a) $7$, (b) $-10$, (c) $30$, (d) $3$, (e) $-3$, and (f) $0$.\n",
    "3. Generate a linear array of values ranging from $10^{-2}$ to $10^2$ with $1000$ points using `np.linspace`. Print the first three and the last three values.\n",
    "4. Plot the linear range of values using `matplotlib`. Comment on the visibility of small values compared to large values.\n",
    "5. Convert the linear array of values into dB. Print the first three and the last three values. Compare the range of values to that of the linear array.\n",
    "6. Plot the dB and linear arrays on the same figure. Comment on the dynamic range requirements for each. Why should linear values be greater than 0 for conversion to dB?"
   ]
  },
  {
   "cell_type": "code",
   "execution_count": 1,
   "metadata": {},
   "outputs": [],
   "source": [
    "# import libraries\n",
    "import numpy as np\n",
    "import matplotlib.pyplot as plt"
   ]
  }
 ],
 "metadata": {
  "kernelspec": {
   "display_name": "venv",
   "language": "python",
   "name": "python3"
  },
  "language_info": {
   "codemirror_mode": {
    "name": "ipython",
    "version": 3
   },
   "file_extension": ".py",
   "mimetype": "text/x-python",
   "name": "python",
   "nbconvert_exporter": "python",
   "pygments_lexer": "ipython3",
   "version": "3.10.12"
  }
 },
 "nbformat": 4,
 "nbformat_minor": 2
}
