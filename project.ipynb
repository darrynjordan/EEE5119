{
 "cells": [
  {
   "cell_type": "markdown",
   "metadata": {},
   "source": [
    "## EEE5119F: Introduction to Radar\n",
    "\n",
    "### Final Simulation - Bringing it Together\n",
    "\n",
    "Consider a radar with the following parameters\n",
    "\n",
    "Parameter               | Value\n",
    "---                     | ---\n",
    "Centre frequency        | $ 5   \\, \\mathrm{GHz} $\n",
    "Chirp bandwidth         | $ 100 \\, \\mathrm{kHz} $\n",
    "Pulse width             | $ 0.1 \\, \\mathrm{ms} $\n",
    "PRF                     | $ 1   \\, \\mathrm{kHz} $\n",
    "\n",
    "and two targets with the following parameters\n",
    "\n",
    "Target  | Range (km)    | Velocity (m/s)\n",
    "---     | ---           | ---\n",
    "1       | $ 60 $        | $ 0 $\n",
    "2       | $ 100 $       | $ 10 $"
   ]
  },
  {
   "cell_type": "markdown",
   "metadata": {},
   "source": [
    "1. Determine the values of the following set of radar parameters: (a) PRI in ms (b) $ F_0 $ (chirp start frequency) in Hz (c) $ \\beta $ (chirp rate) in GHz/s (d) wavelength in cm."
   ]
  },
  {
   "cell_type": "markdown",
   "metadata": {},
   "source": [
    "2. We intend to simulate $ 128 $ pulses received by this radar system. Determine the following set of simulation parameters: (a) sample rate (b) number of fast time samples (c) duration of slow time. (d) Comment on your choice for (a)."
   ]
  },
  {
   "cell_type": "markdown",
   "metadata": {},
   "source": [
    "3. Generate axes for (a) fast time (b) slow time (c) range (d) (fast-time) frequency (e) Doppler (slow-time) frequency (f) Doppler (radial) velocity. Print the first and last sample for each axis."
   ]
  },
  {
   "cell_type": "markdown",
   "metadata": {},
   "source": [
    "4. Generate and plot a single transmit chirp waveform in the time domain. Overlay the real, imaginary and absolute values."
   ]
  },
  {
   "cell_type": "markdown",
   "metadata": {},
   "source": [
    "5. Plot the frequency spectrum of the transmit waveform. Limit the plot from -200 to 200 kHz to ensure that the parameters of the chirp waveform are correct."
   ]
  },
  {
   "cell_type": "markdown",
   "metadata": {},
   "source": [
    "6. (a) Generate and plot a single received pulse in the time domain, comprising echoes from the two targets in the absence of noise. Ignore any losses or other amplitude effects. Overlay the real, imaginary and absolute values. (b) Does the phase of the chirp differ between the two responses? (c) Which formula could be used to determine the phase associated with each target?"
   ]
  },
  {
   "cell_type": "markdown",
   "metadata": {},
   "source": [
    "7. Write a function that adds white Gaussian noise with a given power level to a complex signal: `awgn(signal, power)`. Use this function to add 20 mW of noise to the received signal. Plot the resultant real and imaginary components in the time domain."
   ]
  },
  {
   "cell_type": "markdown",
   "metadata": {},
   "source": [
    "8. (a) Generate and plot a PDF of the received signal's detected (envelope) voltage. (b) How does this PDF compare to that on page 101 of PoMR? (c) Plot the envelope of the received signal from 7. to ease interpretation of this PDF. (d) What would be a good choice of threshold voltage to ensure a high $ P_D $, why?"
   ]
  },
  {
   "cell_type": "markdown",
   "metadata": {},
   "source": [
    "9. Generate a matrix of received waveforms where each received PRI occupies a row of the matrix. Tip: start with `rx_matrix = np.zeros((N_pulses, N_s_fast), dtype=np.complex128)` and then use a loop to insert a new received signal into each row of the matrix i.e. `rx_matrix[pulse_number] = rx`. Remember that each target has an associated velocity. Use `plt.imshow()` to produce 2D plots of the signal envelope and phase, termed range-time-intensity (RTI) and range-time-phase (RTP) plots."
   ]
  },
  {
   "cell_type": "markdown",
   "metadata": {},
   "source": [
    "10. (a) How far do the targets move over the 128 pulses? (b) How many wavelengths have they moved? Is this visible in the RTI or RTP? (c) What is their anticipated Doppler frequency? (d) What is the maximum unambiguous Doppler frequency for this system? (e) What is the Doppler resolution for this system?"
   ]
  },
  {
   "cell_type": "markdown",
   "metadata": {},
   "source": [
    "11. (a) Implement non-coherent integration by averaging the envelope of the received signal over $ x $ number of pulses. (b) Produce a figure that overlays the plots for non-coherent integration of 1, 10, and 100 pulses. (c) Comment on the variance of the noise. (d) Comment on the SNR."
   ]
  },
  {
   "cell_type": "markdown",
   "metadata": {},
   "source": [
    "12. (a) Produce a figure that overlays the PDFs for the three non-coherent integration results from 11. (b) Comment on the mean and standard deviation values for each PDF. (c) Comment on the overall shape of the PDFs."
   ]
  },
  {
   "cell_type": "markdown",
   "metadata": {},
   "source": [
    "13. (a) Implement coherent integration by averaging the complex valued received signal over $ x $ number of pulses. (b) Produce a figure that overlays the plots for coherent integration of 1, 10, and 100 pulses. (c) Comment on the variance of the noise. (d) Comment on the SNR. (e) Does it have the same effect on both targets? Discuss this."
   ]
  },
  {
   "cell_type": "markdown",
   "metadata": {},
   "source": [
    "14. (a) Produce a figure that overlays the PDFs for the three coherent integration results from 13. (b) Comment on the mean and standard deviation values for each PDF. (c) Comment on the SNR of the PDFs. (d) Comment on the overall shape of the PDFs."
   ]
  },
  {
   "cell_type": "markdown",
   "metadata": {},
   "source": [
    "15. (a) Implement moving target indication (MTI) using the single-pulse cancellation approach i.e., for each pulse in the received matrix subtract the next complex valued pulse from the current one. (b) Plot the result as an RTI. (c) Which target do you expect to be visible? Explain this effect."
   ]
  },
  {
   "cell_type": "markdown",
   "metadata": {},
   "source": [
    "16. (a) Implement Doppler processing and produce a range-Doppler map (RDM) using `np.fft.fft` to take FFTs through slow time. Tips: (1) be sure to think about the `axis` parameter (2) you'll need `np.fft.fftshift`. (b) Use the `extent` parameter of `plt.imshow` to set the extent of the Doppler frequency axis. (c) Do the targets appear at the correct Doppler frequency, as calculated in 10.? (d) Explain what the Fourier transform is achieving here."
   ]
  },
  {
   "cell_type": "markdown",
   "metadata": {},
   "source": [
    "17. Generate a figure that overlays two 1D slices through the RDM. The range bin of each slice should be selected to reveal a specific target's Doppler frequency."
   ]
  },
  {
   "cell_type": "markdown",
   "metadata": {},
   "source": [
    "18. (a) Adjust the `extent` argument from 16. to produce an RDM with radial velocity on the $y$-axis. (b) Do the targets appear at the expected radial velocities?"
   ]
  },
  {
   "cell_type": "markdown",
   "metadata": {},
   "source": [
    "19. Consider that the system's matched filter is simply the complex conjugated and time reversed transmit waveform. Knowing this, (a) convolve each received signal in the matrix with the matched filter i.e. perform pulse compression. Tip: time domain convolution is equivalent to frequency domain multiplication. (b) Plot the result of pulse compression for a single received pulse."
   ]
  },
  {
   "cell_type": "markdown",
   "metadata": {},
   "source": [
    "20. Produce 2D plots of the pulse compressed signal envelope and phase, i.e., the RTI and RTP plots. Discuss these plots."
   ]
  },
  {
   "cell_type": "markdown",
   "metadata": {},
   "source": [
    "21. Repeat the process from 16. and 18. to produce the RDM (range vs. radial velocity) after pulse compression. Discuss the result."
   ]
  }
 ],
 "metadata": {
  "language_info": {
   "name": "python"
  }
 },
 "nbformat": 4,
 "nbformat_minor": 2
}
