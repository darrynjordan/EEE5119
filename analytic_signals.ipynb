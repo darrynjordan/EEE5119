{
 "cells": [
  {
   "cell_type": "markdown",
   "metadata": {},
   "source": [
    "## EEE5119F: Introduction to Radar\n",
    "### Analytic Representation of Real-Valued Signals"
   ]
  },
  {
   "cell_type": "markdown",
   "metadata": {},
   "source": [
    "The negative frequency components of real-valued signals are superfluous, due to the Hermitian symmetry of the spectrum. These negative frequency components can be discarded with no loss of information, provided one is willing to deal with a complex-valued signal instead. By definition, a complex-valued signal that has no negative frequency components is called an analytic signal. It is often more desirable to work with the analytic representation of real-valued signals, since it makes certain attributes of the signal more accessible, such as instantaneous amplitude, instantaneous phase, and instantaneous power.\n",
    "\n",
    "As an example, consider a real-valued sinusoidal signal given by\n",
    "\n",
    "$$ s(t) = \\cos (2 \\pi ft) $$\n",
    "\n",
    "where $ t $ represents time and where $f$ is the frequency in Hz. At any given point in time $ t $, the value of $\\cos(2 \\pi ft)$ is simply the instantaneous amplitude of the signal. Determination of both the signal phase and power require observation of the signal over multiple points in time. The analytic representation of a signal does not have this constraint."
   ]
  },
  {
   "cell_type": "markdown",
   "metadata": {},
   "source": [
    "#### Definition\n",
    "The analytic representation $\\tilde{s}(t)$ of a signal $s(t)$ is defined as the sum of itself and $i$ times its Hilbert transform i.e., the analytic representation of a signal can be written as\n",
    "\n",
    "$$ \\tilde{s}(t) = s(t) + i \\mathcal{H} \\left( s(t) \\right) $$\n",
    "\n",
    "where $\\mathcal{H} \\left( s(t) \\right)$ is the Hilbert transform of $s(t)$.\n",
    "\n",
    "The Hilbert transform of a signal is defined as the signal in which all frequency components of the original signal have their phase shifted by $ 90 \\degree $. For the example cosine function, which by definition consists of a single frequency component,\n",
    "\n",
    "$$ \\mathcal{H} \\left( \\cos (2 \\pi ft) \\right) = \\cos (2 \\pi ft - \\frac{\\pi}{2}) = \\sin (2 \\pi ft) $$\n",
    "\n",
    "This means that the analytic representation of the example signal is\n",
    "\n",
    "$$ \\tilde{s}(t) = \\cos (2 \\pi ft) + i \\sin (2 \\pi ft) = e^{i 2 \\pi f t} $$\n",
    "\n",
    "where the last equality is Euler’s formula, $ e^{ix} = \\cos (x) + i \\sin (x)$. It is this complex exponential form $e^{i 2 \\pi ft}$ that is used widely in digital signal processing.\n",
    "\n",
    "Put plainly, the Hilbert transform produces a signal which serves to negate all negative frequency components and double all positive components when added to the original signal, such that the total signal energy is preserved."
   ]
  },
  {
   "cell_type": "markdown",
   "metadata": {},
   "source": [
    "### Exercises\n",
    "- Generate a time domain plot spanning $ 5 $ periods of the real-valued signal $ s(t) = \\cos (2 \\pi ft) $, where $ f = 5 \\, \\mathrm{kHz} $.\n",
    "- Adjust the previous figure to plot the signal amplitude as a function of instantaneous signal phase $ \\phi(t) =  2 \\pi ft $, rather than time $t$.\n",
    "- Given that the value of $ s(t) = 0 $, what is the instantaneous phase of the signal?\n",
    "- Plot the magnitude of the frequency spectrum of $ s(t) $ as a function of frequency. Limit the plot from $-20 \\, \\mathrm{kHz} $ to $+20\\, \\mathrm{kHz} $.\n",
    "\n",
    "- Overlay $ s(t) $ and its Hilbert transform on a new time domain plot.\n",
    "- Overlay the frequency spectra of these signals on a single plot.\n",
    "- Form an analytic representation of $ s(t) $. Plot its real and imaginary parts in the time domain using `np.real` and `np.imag`. What are these signals? Is this what you expect?\n",
    "- Plot the frequency spectrum of the analytic signal. How does its magnitude compare to the original? How does the total signal energy compare?\n",
    "- Given that the value of $ \\tilde{s}(t) = 0 + i $, what is the instantaneous phase of the signal? Compare this with $ \\tilde{s}(t) = 0 - i $.\n",
    "- Plot the instantaneous phase of the signal using the function `np.angle`. What calculation is `np.angle` performing?\n",
    "- How do the sampling rate requirements compare between real and analytic representations? How to the data rate requirements compare?\n",
    "\n",
    "Personal Research\n",
    "- synchronous detection, I/Q"
   ]
  }
 ],
 "metadata": {
  "kernelspec": {
   "display_name": "venv",
   "language": "python",
   "name": "python3"
  },
  "language_info": {
   "codemirror_mode": {
    "name": "ipython",
    "version": 3
   },
   "file_extension": ".py",
   "mimetype": "text/x-python",
   "name": "python",
   "nbconvert_exporter": "python",
   "pygments_lexer": "ipython3",
   "version": "3.10.12"
  }
 },
 "nbformat": 4,
 "nbformat_minor": 2
}
