{
 "cells": [
  {
   "cell_type": "markdown",
   "metadata": {},
   "source": [
    "## EEE5119F: Introduction to Radar"
   ]
  },
  {
   "cell_type": "markdown",
   "metadata": {},
   "source": [
    "### Chapter 3\n",
    "Students to add important equations here..."
   ]
  },
  {
   "cell_type": "markdown",
   "metadata": {},
   "source": [
    "- Differentiate between antenna dwell time and the CPI (signal processing dwell time).\n",
    "\n",
    "An air traffic control radar has a mechanically scanned antenna with a beamwidth of 50 mrad scanning at a rate of 90 degrees per second (about 1.55 radians per second) will produce an antenna dwell time, $T_{ad}$ , of about 33 ms. If a radar has a 10 kHz PRF and transmits 32 pulses for a coherent processing interval, then the CPI, or $T_d$, is 3.2 ms. There is an opportunity for up to 10 CPIs to be processed in a single antenna dwell.\n",
    "\n",
    "- Search frame time and scan rate - example on page 91.\n",
    "\n",
    "- Provide the noise temperature - calculate power - relate power to variance. Normal distribution fully described by mean and standard deviation.\n",
    "- Uniform PDF for a voltage.\n",
    "- Normal/Gaussian PDF for a voltage.\n",
    "- Integrate area under PDF.\n",
    "- Time domain vs PDF.\n",
    "- When the signal is thermal noise both I and Q components are normally distributed random voltages with zero mean.\n",
    "- Linear detector -> Rayleigh PDF\n",
    "\n",
    "- Plot the Rayleigh PDF directly from (3.11) and compare it to the result of the linear detector histogram.\n",
    "\n",
    "- Probability of false alarm (3.12) and threshold voltage (3.13).\n",
    "- Adapt example on top of page 100.\n",
    "\n",
    "- Coherent integration impact on noise."
   ]
  }
 ],
 "metadata": {
  "language_info": {
   "name": "python"
  }
 },
 "nbformat": 4,
 "nbformat_minor": 2
}
