{
 "cells": [
  {
   "cell_type": "markdown",
   "metadata": {},
   "source": [
    "## EEE5119F: Introduction to Radar"
   ]
  },
  {
   "cell_type": "markdown",
   "metadata": {},
   "source": [
    "### Chapter 3\n",
    "Students to add important equations here..."
   ]
  },
  {
   "cell_type": "code",
   "execution_count": 1,
   "metadata": {},
   "outputs": [],
   "source": [
    "import numpy as np\n",
    "import matplotlib.pyplot as plt"
   ]
  },
  {
   "cell_type": "markdown",
   "metadata": {},
   "source": [
    "### Textbook Problems\n",
    "PoMR I: Page 112"
   ]
  },
  {
   "cell_type": "markdown",
   "metadata": {},
   "source": [
    "1.) For a mechanically scanned antenna having an azimuth beamwidth of 2 degrees and an elevation beamwidth of 3 degrees, how many beam positions are required to search a volume defined by a 90 degree azimuth sector and a 6 degree elevation sector?"
   ]
  },
  {
   "cell_type": "markdown",
   "metadata": {},
   "source": [
    "3.) If the antenna from 1. were raster scanning at 180 degrees per second (i.e., it is scanning in azimuth at 180 degrees per second), (a) what is the maximum dwell time for each beam position? Assume it takes no time to change to a new elevation position and azimuth scanning direction. (b) What is the total frame search time?"
   ]
  },
  {
   "cell_type": "markdown",
   "metadata": {},
   "source": [
    "5.) What is the $P_{FA}$ if the threshold voltage is set at three times the root mean square (rms) noise voltage?"
   ]
  },
  {
   "cell_type": "markdown",
   "metadata": {},
   "source": [
    "7.) Assuming $P_{FA}$ = $10^{−4}$, how many consecutive verifications are required to effect a $P_{FA}$ of $10^{−9}$ or less?"
   ]
  },
  {
   "cell_type": "markdown",
   "metadata": {},
   "source": [
    "9.) Consider a weapon locating radar having a beamwidth of 2 degrees in both azimuth and elevation that is set up to search a volume defined by a 75 degree sector in azimuth and a 4 degree sector in elevation. If the radar also has a dwell time of 2.4 msec and a plan to spend 5 dwells at each beam location, what is the total scan time?"
   ]
  },
  {
   "cell_type": "markdown",
   "metadata": {},
   "source": [
    "11.) Your enemy, 20 km distant, fires a mortar round in your general direction. The round has a vertical component of velocity of 200 meters per second. (Assume that this does not change during the search time.) You are searching the area using a weapon-locating radar. What must your maximum scan time be to ensure at least four opportunities to detect the target before it passes through your “search fence,” which is the elevation sector extending from 0 to 4 degrees above the horizon?"
   ]
  },
  {
   "cell_type": "markdown",
   "metadata": {},
   "source": [
    "13.) Given a radar system that has a single-dwell $P_D$ of 50% and a single-dwell $P_{FA}$ of $5 × 10^{−3}$, what are the cumulative $P_D$ and $P_{FA}$ for (a) 2-of-3 and (b) 2-of-4 multiple-dwell processes?"
   ]
  },
  {
   "cell_type": "markdown",
   "metadata": {},
   "source": [
    "15.) For a radar system that has a single-dwell $P_D$ of 75% and a single-dwell $P_{FA}$ of $5 × 10^{−3}$, what are the $P_D$ and $P_{FA}$ for (a) 2-of-3 and (b) 2-of-4 multiple-dwell processes? Assuming that the target exhibits Swerling 1 fluctuations and that the $P_D$ and $P_{FA}$ that result from the multi-dwell (2-of-4) processing are adequate, (c) what SNR improvement is required to provide the same $P_D$ and $P_{FA}$ in a single dwell?"
   ]
  },
  {
   "cell_type": "markdown",
   "metadata": {},
   "source": [
    "### Exercises"
   ]
  },
  {
   "cell_type": "markdown",
   "metadata": {},
   "source": [
    "1. An air traffic control radar has a mechanically scanned antenna with a beamwidth of 100 mrad, scanning at a rate of 180 degrees per second. The radar has a 9 kHz PRF and transmits 64 pulses per coherent processing interval. (a) How long is the antenna dwell time $T_{ad}$? (b) How long is the dwell time $T_d$? (c) How many CPIs can be processed in each antenna dwell?"
   ]
  },
  {
   "cell_type": "markdown",
   "metadata": {},
   "source": [
    "2. Consider a search radar with azimuth and elevation antenna beamwidths of 2 degrees. The radar has a PRF of 20 kHz and plans to transmit 40 pulses per CPI. It is required to search a volume of 90 degrees in azimuth and 4 degrees in elevation with a total can time of 900 ms. (a) How many beam positions are required? (b) What is the duration of each CPI? (c) How many CPIs can be processed at each beam position? (d) What is the required azimuth scan rate in degrees per second? Assume there are 333 range bins and 32 Doppler bins for each antenna beam position. The single-dwell false-alarm probability is given as $ 10^{-5} $. (e) How many opportunities for a false detection are there in a complete search scan? (f) On average, how many false alarms are anticipated per scan? (g) If a confirmation dwell were required after each detection, how many full scans could take place per false detection (on average)? (h) If each confirmation dwell took the same amount of time as a usual dwell, how long is the full scan period?"
   ]
  },
  {
   "cell_type": "markdown",
   "metadata": {},
   "source": [
    "3. Use `np.random.uniform` to generate 1000 samples of a noise signal with a uniform PDF of values between -1 and 1 Volt. Plot this signal in the time domain."
   ]
  },
  {
   "cell_type": "markdown",
   "metadata": {},
   "source": [
    "4. Use `plt.hist` to plot the probability density function associated with the noise signal. What is the approximate area under the PDF?"
   ]
  },
  {
   "cell_type": "markdown",
   "metadata": {},
   "source": [
    "5. Find and use a function in the `np.random` library to generate 1000 samples of a noise signal with a **Gaussian** PDF with a zero mean and standard deviation of 1. Plot this signal in the time domain. Which values occur more often?"
   ]
  },
  {
   "cell_type": "markdown",
   "metadata": {},
   "source": [
    "4. Use `plt.hist` to plot the probability density function associated with the noise signal. Which voltage values are most likely to occur?"
   ]
  },
  {
   "cell_type": "markdown",
   "metadata": {},
   "source": [
    "5. The probability density for the Gaussian distribution is given, where $ \\mu $ is the mean and $ \\sigma $ the standard deviation. Use this to plot the Gaussian PDF over the measured PDF from 4. Do they agree?\n",
    "$$ p_i(x) = \\frac{1}{\\sqrt{2 \\pi \\sigma^2}} e^{ -\\frac{(x - \\mu)^2}{2 \\sigma^2} } $$"
   ]
  },
  {
   "cell_type": "markdown",
   "metadata": {},
   "source": [
    "6. Consider a radar system that employs synchronous detection such that the received signal comprises an in-phase (I) component and a quadrature (Q) component. For thermal noise, both the I and Q components are a normally distributed random voltage with zero mean. Generate such a noise signal and plot its amplitude (envelope) in the time domain, as found if a linear detector were used."
   ]
  },
  {
   "cell_type": "markdown",
   "metadata": {},
   "source": [
    "7. Use `plt.hist` to plot the probability density function associated with the amplitude of the noise signal? Is this what you expected?"
   ]
  },
  {
   "cell_type": "markdown",
   "metadata": {},
   "source": [
    "8. The probability density for the Rayleigh distribution is given, where $ v $ is the detected envelope voltage and $ \\sigma_n^2 $ the mean square voltage or variance of the noise. Use this to plot the Rayleigh PDF over the measured PDF from 7. Do they agree? What is the value of the average noise power?\n",
    "$$ p_i(v) = \\frac{v}{\\sigma_n^2} \\exp \\left( \\frac{-v^2}{2 \\sigma_n^2} \\right) $$"
   ]
  }
 ],
 "metadata": {
  "kernelspec": {
   "display_name": "venv",
   "language": "python",
   "name": "python3"
  },
  "language_info": {
   "codemirror_mode": {
    "name": "ipython",
    "version": 3
   },
   "file_extension": ".py",
   "mimetype": "text/x-python",
   "name": "python",
   "nbconvert_exporter": "python",
   "pygments_lexer": "ipython3",
   "version": "3.10.12"
  }
 },
 "nbformat": 4,
 "nbformat_minor": 2
}
