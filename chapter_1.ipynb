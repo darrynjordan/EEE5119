{
 "cells": [
  {
   "cell_type": "markdown",
   "metadata": {},
   "source": [
    "## EEE5119F: Introduction to Radar"
   ]
  },
  {
   "cell_type": "markdown",
   "metadata": {},
   "source": [
    "### Chapter 1\n",
    "#### 1.1 Range-time relationship (fast-time)\n",
    "$$ R = \\frac{c \\Delta T}{2} $$\n",
    "where:\n",
    "- $R$ is the one-way distance between the radar and the target ($\\mathrm{m}$),\n",
    "- $\\Delta T$ is the two-way (round-trip) travel time ($\\mathrm{s}$), and\n",
    "- $c = 299792458$ $\\mathrm{m/s}$.\n",
    "---"
   ]
  },
  {
   "cell_type": "markdown",
   "metadata": {},
   "source": [
    "#### 1.2 Frequency-wavelength relationship\n",
    "$$ f = \\frac{c}{\\lambda} $$\n",
    "where:\n",
    "- $f$ is the wave's frequency ($\\mathrm{Hz}$), and\n",
    "- $\\lambda$ is the wave's wavelength ($\\mathrm{m}$).\n",
    "---"
   ]
  },
  {
   "cell_type": "markdown",
   "metadata": {},
   "source": [
    "#### 1.3 Surface Area of a Sphere\n",
    "$$ A = 4 \\pi r^2 $$\n",
    "where:\n",
    "- $A$ is the sphere's surface area ($\\mathrm{m^2}$),\n",
    "- $r$ is the sphere's radius ($\\mathrm{m}$), and\n",
    "- $\\pi = 3.1415926...$\n",
    "---"
   ]
  },
  {
   "cell_type": "markdown",
   "metadata": {},
   "source": [
    "#### 1.4 Antenna Beamwidth\n",
    "$$ \\theta_3 = k \\frac{\\lambda}{a} $$\n",
    "where:\n",
    "- $\\theta_3$ is the antenna's 3 $\\mathrm{dB}$ beamwidth (radians),\n",
    "- $a$ is the antenna's aperture ($\\mathrm{m}$), and\n",
    "- $k$ is a factor that varies between antenna types.\n",
    "---"
   ]
  },
  {
   "cell_type": "markdown",
   "metadata": {},
   "source": [
    "#### 1.5 Plane wave / far-field approximation\n",
    "$$ R \\ge \\frac{2 a^2}{\\lambda} $$\n",
    "---"
   ]
  },
  {
   "cell_type": "markdown",
   "metadata": {},
   "source": [
    "#### 1.6 Average Power\n",
    "$$ P_{avg} = P_t d_t = P_t \\frac{\\tau}{\\mathit{PRI}} = P_t \\tau \\mathit{PRF} $$\n",
    "where:\n",
    "- $P_{avg}$ is the average transmitted power (Watts),\n",
    "- $P_t$ is the peak transmitted power (Watts),\n",
    "- $d_t$ is the transmission duty cycle,\n",
    "- $\\tau$ is the pulse width ($\\mathrm{s}$),\n",
    "- $\\mathit{PRI}$ is the pulse repetition interval ($\\mathrm{s}$), and\n",
    "- $\\mathit{PRF}$ is the pulse repetition frequency ($\\mathrm{Hz}$).\n",
    "---"
   ]
  },
  {
   "cell_type": "markdown",
   "metadata": {},
   "source": [
    "#### 1.7 Unambiguous Range\n",
    "$$ R_{ua} \\leq \\frac{c \\mathit{PRI}}{2} = \\frac{c}{2 \\mathit{PRF}} $$\n",
    "where:\n",
    "- $R_{ua}$ is the unambiguous range ($\\mathrm{m}$).\n",
    "---"
   ]
  },
  {
   "cell_type": "markdown",
   "metadata": {},
   "source": [
    "#### 1.8 Doppler Shift\n",
    "$$ f_d \\approx \\frac{2 v_r}{\\lambda} $$\n",
    "where:\n",
    "- $f_d$ is the Doppler frequency shift ($\\mathrm{Hz}$), and\n",
    "- $v_r$ is the radial component of the target's velocity vector ($\\mathrm{m/s}$).\n",
    "---"
   ]
  },
  {
   "cell_type": "markdown",
   "metadata": {},
   "source": [
    "#### 1.9 Unambiguous Doppler\n",
    "$$ f_{d_\\mathrm{max}} = \\mathit{PRF}/2 $$\n",
    "$$ \\therefore \\mathit{PRF}_\\mathrm{min} = 2 f_{d_\\mathrm{max}} = \\frac{4 v_{r_\\mathrm{max}}}{\\lambda}$$\n",
    "---"
   ]
  },
  {
   "cell_type": "markdown",
   "metadata": {},
   "source": [
    "#### 1.10 Range Resolution (unmodulated pulse)\n",
    "$$ \\Delta R = \\frac{c \\tau}{2} $$\n",
    "where:\n",
    "- $\\Delta R$ is the range resolution ($\\mathrm{m}$).\n",
    "---"
   ]
  },
  {
   "cell_type": "markdown",
   "metadata": {},
   "source": [
    "#### 1.11 Doppler Resolution (sine cardinal function)\n",
    "$$ \\Delta f_d = \\frac{0.89}{\\mathit{CPI}} $$\n",
    "where:\n",
    "- $\\Delta f_d$ is the 3 $\\mathrm{dB}$ width of the sinc mainlobe ($\\mathrm{Hz}$), and\n",
    "- $\\mathit{CPI}$ is the coherent processing interval i.e. the time period over which the waveform is observed ($\\mathrm{s}$).\n",
    "---"
   ]
  },
  {
   "cell_type": "markdown",
   "metadata": {},
   "source": [
    "### Problems\n",
    "PoMR I: Page 56"
   ]
  },
  {
   "cell_type": "markdown",
   "metadata": {},
   "source": [
    "1.) Find an expression for the range of a target in kilometres (km) for a reflected signal that returns to the radar $\\Delta T$ $\\mu s$ after being transmitted.\n",
    "\n",
    "3.) Find the delay times associated with the following target distances:\n",
    "\n",
    "L  | Distance\n",
    "---| ---\n",
    "a. | 1 statute mile\n",
    "b. | 1 km\n",
    "c. | 100 km\n",
    "d. | 250 statute miles\n",
    "e. | 20 feet\n",
    "\n",
    "5.) Find the carrier frequency associated with the following wavelengths for an EM wave in free space.\n",
    "\n",
    "L  | Wavelength\n",
    "---| ---\n",
    "a. | 1 inch\n",
    "b. | 0.35 cm\n",
    "c. | 8.6 mm\n",
    "d. | 90 cm\n",
    "e. | 9.0 cm\n",
    "f. | 1 foot\n",
    "\n",
    "7.) How far from an antenna must one be positioned such that the wavefront whose source is at your position is estimated to be planar at the antenna, for the following conditions, where $f$ is the carrier frequency, $λ$ is the wavelength in meters, and $D$ is the antenna dimension in meters:\n",
    "\n",
    "L  | $f$    | $\\lambda$ | $D$\n",
    "---| ---    | ---       | ---\n",
    "a. | 10 GHz | -         | 1.0\n",
    "b. | -      | 0.1       | 1.0\n",
    "c. | 10 GHz | -         | 0.1\n",
    "d. | 3 GHz  | -         | 1.0\n",
    "e. | 3 GHz  | -         | 7.5\n",
    "\n",
    "10.) The peak power of 200 kW radar is reduced by 3 dB. If its duty cycle is 1.0%, what is it resulting average power in dBW?\n",
    "\n",
    "11.) Find an expression for a radar’s maximum unambiguous range in kilometres if the radar’s PRF is x kHz.\n",
    "\n",
    "13.) Find the Doppler shift associated with the following target motions; where $v_t$ is the target speed, $\\theta$ is the angle of velocity vector relative to LOS from the radar to the target, and $f$ is the radar carrier frequency:\n",
    "\n",
    "L  | $v_t$   | $\\theta$ | $f$\n",
    "---| ---     | ---      | ---\n",
    "a. | 100 mph | 0        | 10 GHz\n",
    "b. | 330 m/s | 0        | 10 GHz\n",
    "c. | 15 m/s  | 0        | 10 GHz\n",
    "d. | 15 m/s  | 45       | 10 GHz\n",
    "e. | 15 m/s  | 45       | 3 GHz\n",
    "f. | 15 m/s  | 60       | 10 GHz\n",
    "\n",
    "15.) What is the range resolution of a radar system having the following characteristics?\n",
    "\n",
    "L  | Pulse Length   | Frequency\n",
    "---| ---            | ---\n",
    "a. | 1.0 $\\mu s$    | 9.4 GHz\n",
    "b. | 1.0 $\\mu s$    | 34.4 GHz\n",
    "c. | 0.1 $\\mu s$    | 9.4 GHz\n",
    "d. | 0.01 $\\mu s$   | 9.4 GHz\n",
    "\n",
    "17.) Consider a police speed timing radar with a circular antenna of 6 inch diameter.\n",
    "\n",
    "L  | Question\n",
    "---| ---\n",
    "a. | What is the approximate beamwidth (in degrees) for an operating frequency of 9.35 GHz?\n",
    "b. | What is the approximate beamwidth (in degrees) for an operating frequency of 34.50 GHz?\n",
    "c. | What is the approximate diameter of the beam (in feet) at a distance of 0.25 miles for an operating frequency of 9.35 GHz?\n",
    "d. | What is the approximate diameter of the beam (in feet) at a distance of 0.25 miles for an operating frequency of 34.50 GHz?\n",
    "\n",
    "\n"
   ]
  },
  {
   "cell_type": "markdown",
   "metadata": {},
   "source": [
    "### Exercises\n",
    "Provide the parameters of an example radar system.\n",
    "\n",
    "1. Plot a simple unmodulated pulse (sine wave) at the radar's centre frequency.\n",
    "2. Adjust the plot to show a full PRI.\n",
    "3. Overlay the envelope of the pulse.\n",
    "4. Convert from a time axis to a range axis.\n",
    "5. Illustrate the resolution constraint. Three plots with different target spacing.\n",
    "    - Target 1: 2.00 km, Target 2: 4.00 km\n",
    "    - Target 1: 2.00 km, Target 2: 2.75 km\n",
    "    - Target 1: 2.00 km, Target 2: 2.50 km\n",
    "6. Create a 1D plot of the transmitted pulses over 3 PRIs.\n",
    "7. Illustrate peak vs. average power.\n",
    "    - Power in a simple sine wave\n",
    "8. Overlay a the response of a target that is 6 km away from the radar.\n",
    "    - How far away does the target appear from the radar's perspective during the second PRI?\n",
    "    - What do we call this condition?\n",
    "    - What can we change to correct this?\n",
    "9. RTI slow-time 2D plot.\n",
    "10. RTP slow-time 2D plot.\n",
    "11. FFT through slow-time to see stationary target.\n",
    "12. Add Doppler to each response. Single target either approaching or receding. What is the fastest target velocity we can measure?\n",
    "13. Doppler ambiguity plot.\n",
    "13. Add a second target in the same range bin, but different Doppler frequency. What is our Doppler resolution? Three plots."
   ]
  },
  {
   "cell_type": "code",
   "execution_count": 1,
   "metadata": {},
   "outputs": [],
   "source": [
    "# imports\n",
    "import numpy as np\n",
    "import matplotlib.pyplot as plt\n",
    "import scipy.constants as const"
   ]
  },
  {
   "cell_type": "code",
   "execution_count": 3,
   "metadata": {},
   "outputs": [],
   "source": [
    "# radar parameters\n",
    "wavelength = 300 # (m)\n",
    "Tau = 5e-6 # pulse length (s)\n",
    "PRF = 30e3 # pulse repetition frequency (Hz)"
   ]
  }
 ],
 "metadata": {
  "kernelspec": {
   "display_name": "venv",
   "language": "python",
   "name": "python3"
  },
  "language_info": {
   "codemirror_mode": {
    "name": "ipython",
    "version": 3
   },
   "file_extension": ".py",
   "mimetype": "text/x-python",
   "name": "python",
   "nbconvert_exporter": "python",
   "pygments_lexer": "ipython3",
   "version": "3.10.12"
  }
 },
 "nbformat": 4,
 "nbformat_minor": 2
}
