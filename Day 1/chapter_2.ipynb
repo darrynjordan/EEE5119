{
 "cells": [
  {
   "cell_type": "markdown",
   "metadata": {},
   "source": [
    "## EEE5119F: Introduction to Radar"
   ]
  },
  {
   "cell_type": "markdown",
   "metadata": {},
   "source": [
    "### Chapter 2\n",
    "#### 2.1 Power Density at Distance (Isotropic Antenna)\n",
    "$$ Q_i = \\frac{P_t}{4 \\pi R^2} $$\n",
    "where:\n",
    "- $Q_i$ is the incident power density ($W/m^2$),\n",
    "- at a distance $R$ ($\\mathrm{m}$) from the radiating antenna.\n",
    "---"
   ]
  },
  {
   "cell_type": "markdown",
   "metadata": {},
   "source": [
    "#### 2.2 Power Density at Distance (Directional Antenna)\n",
    "$$ Q_i = \\frac{P_t G_t}{4 \\pi R^2} $$\n",
    "where:\n",
    "- $G_t$ is the antenna gain.\n",
    "---"
   ]
  },
  {
   "cell_type": "markdown",
   "metadata": {},
   "source": [
    "#### 2.3 Reflected Power from a Target\n",
    "$$ P_\\mathrm{refl} = Q_i \\sigma = \\frac{P_t G_t \\sigma}{4 \\pi R^2} $$\n",
    "where:\n",
    "- $P_\\mathrm{refl}$ is the reflected power (Watts), and\n",
    "- $\\sigma$ is the mean radar cross section ($m^2$).\n",
    "---"
   ]
  },
  {
   "cell_type": "markdown",
   "metadata": {},
   "source": [
    "#### 2.4 Power Density at the Receive Antenna\n",
    "$$ Q_r = \\frac{P_\\mathrm{refl}}{4 \\pi R^2} = \\frac{P_t G_t \\sigma}{(4 \\pi)^2 R^4} $$\n",
    "where:\n",
    "- $Q_r$ is the reflected power density ($W/m^2$).\n",
    "---"
   ]
  },
  {
   "cell_type": "markdown",
   "metadata": {},
   "source": [
    "#### 2.5 Antenna Effective Area\n",
    "$$ A_e = \\frac{G \\lambda^2}{4 \\pi \\eta_a} $$\n",
    "where:\n",
    "- $A_e$ is the effective antenna area ($m^2$), and\n",
    "- $\\eta_a$ is the antenna efficiency.\n",
    "---"
   ]
  },
  {
   "cell_type": "markdown",
   "metadata": {},
   "source": [
    "#### 2.5 Received Power\n",
    "$$ P_r = Q_r A_e = \\frac{P_t G_t G_r \\lambda^2 \\sigma}{(4 \\pi)^3 R^4} $$\n",
    "where:\n",
    "- $G_r$ is the gain of the receive antenna.\n",
    "---"
   ]
  },
  {
   "cell_type": "markdown",
   "metadata": {},
   "source": [
    "#### 2.5 Receiver Thermal Noise\n",
    "$$ P_n = k T_s B = k T_0 F B $$\n",
    "where:\n",
    "- $k$ is Boltzmann’s constant (1.38 × 10−23 $\\mathrm{Ws/K}$),\n",
    "- $T_0$ is the standard temperature (290 $\\mathrm{K}$).\n",
    "- $T_s$ is the system noise temperature ($T_s$ = $T_0 F$).\n",
    "- $B$ is the instantaneous receiver bandwidth ($\\mathrm{Hz}$).\n",
    "- $F$ is the noise figure of the receiver subsystem.\n",
    "---"
   ]
  }
 ],
 "metadata": {
  "language_info": {
   "name": "python"
  }
 },
 "nbformat": 4,
 "nbformat_minor": 2
}
